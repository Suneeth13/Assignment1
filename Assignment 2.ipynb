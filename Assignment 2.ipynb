{
 "cells": [
  {
   "cell_type": "code",
   "execution_count": 1,
   "id": "ef3022e3",
   "metadata": {},
   "outputs": [],
   "source": [
    "import pandas as pd\n",
    "import numpy as np"
   ]
  },
  {
   "cell_type": "code",
   "execution_count": 2,
   "id": "1ef4c6a3",
   "metadata": {},
   "outputs": [
    {
     "name": "stdout",
     "output_type": "stream",
     "text": [
      "Enter first number: 2\n",
      "Enter second number: 3\n",
      "\n",
      " symbols \n",
      "\n",
      " + : Sum\n",
      " - : Subtraction\n",
      " * : Multiplication\n",
      " / : Division\n",
      "\n",
      "\n",
      "Enter required operation: *\n",
      "\n",
      "The product of the two numbers is:  6\n",
      "\\Data recorded successfully\n"
     ]
    }
   ],
   "source": [
    "def calc():\n",
    "    num1=int(input(\"Enter first number: \"))\n",
    "    num2=int(input(\"Enter second number: \"))\n",
    "    file=open(\"output.txt\",\"a\")\n",
    "    print(\"\\n symbols \\n\\n + : Sum\\n - : Subtraction\\n * : Multiplication\\n / : Division\\n\")\n",
    "    choice=input(\"\\nEnter required operation: \")\n",
    "    if(choice==\"+\"):\n",
    "        print(\"\\nThe sum of the two numbers is: \",num1+num2)\n",
    "        file.write(\"\\nThe sum of the two numbers is: {num1+num2}\")\n",
    "        print(\"\\Data recorded successfully\")\n",
    "    elif(choice==\"-\"):\n",
    "        print(\"\\nThe difference of the two numbers is: \",num1-num2)\n",
    "        file.write(\"\\nThe difference of the two numbers is: {num1-num2}\")\n",
    "        print(\"\\Data recorded successfully\")\n",
    "    elif(choice==\"*\"):\n",
    "        print(\"\\nThe product of the two numbers is: \",num1*num2)\n",
    "        file.write(\"\\nThe product of the two numbers is: {num1*num2}\")\n",
    "        print(\"\\Data recorded successfully\")\n",
    "    elif(choice==\"/\"):\n",
    "        print(\"\\nThe Quotient of the two numbers is: \",num1/num2)\n",
    "        file.write(\"\\nThe Quotient of the two numbers is: {num1/num2}\")\n",
    "        print(\"\\Data recorded successfully\")\n",
    "    else:\n",
    "        print(\"Enter a valid symbol: \")\n",
    "calc()\n",
    "\n",
    "        "
   ]
  },
  {
   "cell_type": "code",
   "execution_count": null,
   "id": "3e0e1257",
   "metadata": {},
   "outputs": [],
   "source": []
  }
 ],
 "metadata": {
  "kernelspec": {
   "display_name": "Python 3 (ipykernel)",
   "language": "python",
   "name": "python3"
  },
  "language_info": {
   "codemirror_mode": {
    "name": "ipython",
    "version": 3
   },
   "file_extension": ".py",
   "mimetype": "text/x-python",
   "name": "python",
   "nbconvert_exporter": "python",
   "pygments_lexer": "ipython3",
   "version": "3.9.12"
  }
 },
 "nbformat": 4,
 "nbformat_minor": 5
}
