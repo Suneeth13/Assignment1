{
 "cells": [
  {
   "cell_type": "code",
   "execution_count": 1,
   "id": "2df710e6",
   "metadata": {},
   "outputs": [],
   "source": [
    "import pandas as pd\n",
    "import numpy as np\n"
   ]
  },
  {
   "cell_type": "code",
   "execution_count": 2,
   "id": "e5aad557",
   "metadata": {},
   "outputs": [
    {
     "data": {
      "text/plain": [
       "'\\nString template class:\\n              1.The Python string Template is created by passing the template string to its constructor. \\n              2.It supports $-based substitutions.\\n              3.This class has 2 key methods: \\n\\n                                A.substitute(mapping, **kwds): \\n                                                This method performs substitutions using a dictionary with a process \\nsimilar to key-based mapping objects. keyword arguments can also be used for the same purpose. In case the key-based mapping\\nand the keyword arguments have the same key, it throws a TypeError. If keys are missing it returns a KeyError.\\n                                B.safe_substitute(mapping, **kwds):\\n                                                The behavior of this method is similar to that of the substitute method but\\nit doesn’t throw a KeyError if a key is missing, rather it returns a placeholder in the result string. \\n     \\n                4.The substitute() method raises a KeyError when a placeholder is not supplied in a dictionary or a keyword \\nargument. For mail-merge style applications, user-supplied data may be incomplete and the safe_substitute() method may be more\\nappropriate — it will leave placeholders unchanged if data is missing.\\n\\nBelow are a few simple examples.'"
      ]
     },
     "execution_count": 2,
     "metadata": {},
     "output_type": "execute_result"
    }
   ],
   "source": [
    "'''\n",
    "String template class:\n",
    "              1.The Python string Template is created by passing the template string to its constructor. \n",
    "              2.It supports $-based substitutions.\n",
    "              3.This class has 2 key methods: \n",
    "\n",
    "                                A.substitute(mapping, **kwds): \n",
    "                                                This method performs substitutions using a dictionary with a process \n",
    "similar to key-based mapping objects. keyword arguments can also be used for the same purpose. In case the key-based mapping\n",
    "and the keyword arguments have the same key, it throws a TypeError. If keys are missing it returns a KeyError.\n",
    "                                B.safe_substitute(mapping, **kwds):\n",
    "                                                The behavior of this method is similar to that of the substitute method but\n",
    "it doesn’t throw a KeyError if a key is missing, rather it returns a placeholder in the result string. \n",
    "     \n",
    "                4.The substitute() method raises a KeyError when a placeholder is not supplied in a dictionary or a keyword \n",
    "argument. For mail-merge style applications, user-supplied data may be incomplete and the safe_substitute() method may be more\n",
    "appropriate — it will leave placeholders unchanged if data is missing.\n",
    "\n",
    "Below are a few simple examples.'''"
   ]
  },
  {
   "cell_type": "code",
   "execution_count": 3,
   "id": "5228953b",
   "metadata": {},
   "outputs": [
    {
     "name": "stdout",
     "output_type": "stream",
     "text": [
      "x is 1\n"
     ]
    }
   ],
   "source": [
    "#Example 1\n",
    "from string import Template\n",
    "a=Template(\"x is $x\")\n",
    "print(a.substitute({\"x\":1}))\n"
   ]
  },
  {
   "cell_type": "code",
   "execution_count": 5,
   "id": "4ede713d",
   "metadata": {},
   "outputs": [
    {
     "name": "stdout",
     "output_type": "stream",
     "text": [
      "Hi Ram,you have got 90 marks\n",
      "Hi Shyam,you have got 85 marks\n",
      "Hi Toby,you have got 80 marks\n"
     ]
    }
   ],
   "source": [
    "#Example 2\n",
    "from string import Template\n",
    "Student=[(\"Ram\",90),(\"Shyam\",85),(\"Toby\",80)]\n",
    "a=Template(\"Hi $name,you have got $marks marks\")\n",
    "for i in Student:\n",
    "    print(a.substitute(name=i[0],marks=i[1]))\n",
    "    "
   ]
  },
  {
   "cell_type": "code",
   "execution_count": 6,
   "id": "90a53136",
   "metadata": {},
   "outputs": [
    {
     "name": "stdout",
     "output_type": "stream",
     "text": [
      "Sundar Pichairajan Pichai is the CEO of Alphabet and Google\n"
     ]
    }
   ],
   "source": [
    "#Safe_Substitute\n",
    "#Example 3\n",
    "from string import Template\n",
    "a=Template(\"$name is the $job of $company\")\n",
    "employee=a.safe_substitute(name=\"Sundar Pichairajan Pichai\",job=\"CEO\",company=\"Alphabet and Google\")\n",
    "print(employee)\n"
   ]
  },
  {
   "cell_type": "code",
   "execution_count": 8,
   "id": "01268853",
   "metadata": {},
   "outputs": [
    {
     "name": "stdout",
     "output_type": "stream",
     "text": [
      "Template string=  I am $name from $city\n"
     ]
    }
   ],
   "source": [
    "#Printing template class\n",
    "#Example 4\n",
    "from string import Template\n",
    "a=Template(\"I am $name from $city\")\n",
    "print(\"Template string= \",a.template)\n"
   ]
  },
  {
   "cell_type": "code",
   "execution_count": 9,
   "id": "9fc6fd12",
   "metadata": {},
   "outputs": [
    {
     "name": "stdout",
     "output_type": "stream",
     "text": [
      "$ is the symbol of Dollar\n"
     ]
    }
   ],
   "source": [
    "#Escape of dollar\n",
    "#Example 5\n",
    "from string import Template\n",
    "a=Template('$$ is the symbol of $currency')\n",
    "Currency=a.substitute(currency='Dollar')\n",
    "print(Currency)\n",
    "            "
   ]
  },
  {
   "cell_type": "code",
   "execution_count": 14,
   "id": "247212b2",
   "metadata": {},
   "outputs": [],
   "source": [
    "from string import Template"
   ]
  },
  {
   "cell_type": "code",
   "execution_count": 18,
   "id": "23fb47fe",
   "metadata": {},
   "outputs": [
    {
     "name": "stdout",
     "output_type": "stream",
     "text": [
      "That girl looks girly\n"
     ]
    }
   ],
   "source": [
    "#THE $ identifier\n",
    "#Example 6\n",
    "\n",
    "template=Template('That $person looks ${person}y')\n",
    "string=template.substitute(person='girl')\n",
    "print(string)\n"
   ]
  },
  {
   "cell_type": "code",
   "execution_count": null,
   "id": "0b86e4ab",
   "metadata": {},
   "outputs": [],
   "source": []
  },
  {
   "cell_type": "code",
   "execution_count": null,
   "id": "1e2b4583",
   "metadata": {},
   "outputs": [],
   "source": []
  }
 ],
 "metadata": {
  "kernelspec": {
   "display_name": "Python 3 (ipykernel)",
   "language": "python",
   "name": "python3"
  },
  "language_info": {
   "codemirror_mode": {
    "name": "ipython",
    "version": 3
   },
   "file_extension": ".py",
   "mimetype": "text/x-python",
   "name": "python",
   "nbconvert_exporter": "python",
   "pygments_lexer": "ipython3",
   "version": "3.9.12"
  }
 },
 "nbformat": 4,
 "nbformat_minor": 5
}
