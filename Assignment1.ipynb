{
 "cells": [
  {
   "cell_type": "code",
   "execution_count": 2,
   "id": "0df33434",
   "metadata": {},
   "outputs": [],
   "source": [
    "import pandas as pd\n",
    "import numpy as np\n"
   ]
  },
  {
   "cell_type": "code",
   "execution_count": 3,
   "id": "af6cadb0",
   "metadata": {},
   "outputs": [
    {
     "name": "stdout",
     "output_type": "stream",
     "text": [
      "{'Ferrari', 'Benz', 'BMW', 13, 'Audi'}\n"
     ]
    }
   ],
   "source": [
    "'''Set:\n",
    "    An unordered collection if data types which uses { } and does not akkow any duplicate values.'''\n",
    "\n",
    "\n",
    "#Mutability of set\n",
    "\n",
    "myset={\"BMW\",\"Ferrari\",\"Benz\",\"Audi\",13}\n",
    "print(myset)\n",
    "#Updation\n",
    "myset.add(\"Volkswagon\")"
   ]
  },
  {
   "cell_type": "code",
   "execution_count": 4,
   "id": "9a193cf3",
   "metadata": {},
   "outputs": [
    {
     "name": "stdout",
     "output_type": "stream",
     "text": [
      "{'Volkswagon', 'Ferrari', 'Benz', 'BMW', 13, 'Audi'}\n"
     ]
    }
   ],
   "source": [
    "#Updation\n",
    "myset.add(\"Volkswagon\")\n",
    "print(myset)"
   ]
  },
  {
   "cell_type": "code",
   "execution_count": 5,
   "id": "682a0d4d",
   "metadata": {},
   "outputs": [],
   "source": [
    "#Since we are able to add an element to the set,therefore \n",
    "#Set is mutable"
   ]
  },
  {
   "cell_type": "code",
   "execution_count": 6,
   "id": "8ad0d8f8",
   "metadata": {},
   "outputs": [
    {
     "name": "stdout",
     "output_type": "stream",
     "text": [
      "['Data', 'False', 239, 420]\n"
     ]
    }
   ],
   "source": [
    "'''List:\n",
    "        An ordered collection of data types which uses [] and is mutable.\n",
    "        The first character should be an alphabet.'''\n",
    "mylist=[\"Data\",\"False\",239,420]\n",
    "print(mylist)"
   ]
  },
  {
   "cell_type": "code",
   "execution_count": 7,
   "id": "f4f3f26b",
   "metadata": {},
   "outputs": [
    {
     "name": "stdout",
     "output_type": "stream",
     "text": [
      "Data\n",
      "False\n",
      "239\n",
      "420\n"
     ]
    }
   ],
   "source": [
    "#Indexing of a list\n",
    "#Positive indexing\n",
    "print(mylist[0])\n",
    "print(mylist[1])\n",
    "print(mylist[2])\n",
    "print(mylist[3])"
   ]
  },
  {
   "cell_type": "code",
   "execution_count": 8,
   "id": "8a0af22d",
   "metadata": {},
   "outputs": [
    {
     "name": "stdout",
     "output_type": "stream",
     "text": [
      "420\n",
      "239\n",
      "False\n",
      "Data\n"
     ]
    }
   ],
   "source": [
    "#Negative indexing\n",
    "print(mylist[-1])\n",
    "print(mylist[-2])\n",
    "print(mylist[-3])\n",
    "print(mylist[-4])"
   ]
  },
  {
   "cell_type": "code",
   "execution_count": 9,
   "id": "7f91b772",
   "metadata": {},
   "outputs": [
    {
     "data": {
      "text/plain": [
       "['Data', 'False', 239, 420, 34.2]"
      ]
     },
     "execution_count": 9,
     "metadata": {},
     "output_type": "execute_result"
    }
   ],
   "source": [
    "#Append\n",
    "mylist.append(34.20)\n",
    "mylist"
   ]
  },
  {
   "cell_type": "code",
   "execution_count": 10,
   "id": "133dbac5",
   "metadata": {},
   "outputs": [
    {
     "data": {
      "text/plain": [
       "['Data', 'False', True, 420, 34.2]"
      ]
     },
     "execution_count": 10,
     "metadata": {},
     "output_type": "execute_result"
    }
   ],
   "source": [
    "#Updating data\n",
    "mylist[2]=True\n",
    "mylist"
   ]
  },
  {
   "cell_type": "code",
   "execution_count": 11,
   "id": "0ff1d423",
   "metadata": {},
   "outputs": [
    {
     "data": {
      "text/plain": [
       "['Democracy', 'Data', 'False', True, 420, 34.2]"
      ]
     },
     "execution_count": 11,
     "metadata": {},
     "output_type": "execute_result"
    }
   ],
   "source": [
    "#Insert\n",
    "mylist.insert(0,\"Democracy\")\n",
    "mylist"
   ]
  },
  {
   "cell_type": "code",
   "execution_count": 12,
   "id": "71a0ea9b",
   "metadata": {},
   "outputs": [
    {
     "data": {
      "text/plain": [
       "['India', 'Data', 'False', True, 420, 34.2]"
      ]
     },
     "execution_count": 12,
     "metadata": {},
     "output_type": "execute_result"
    }
   ],
   "source": [
    "#Update string\n",
    "mylist[0]=\"India\"\n",
    "mylist"
   ]
  },
  {
   "cell_type": "code",
   "execution_count": 13,
   "id": "c3e97cc9",
   "metadata": {},
   "outputs": [
    {
     "name": "stdout",
     "output_type": "stream",
     "text": [
      "<class 'str'>\n",
      "<class 'str'>\n",
      "<class 'str'>\n",
      "<class 'bool'>\n",
      "<class 'int'>\n",
      "<class 'float'>\n"
     ]
    }
   ],
   "source": [
    "#Itemtype\n",
    "for x in mylist:\n",
    "    print(type(x))"
   ]
  },
  {
   "cell_type": "code",
   "execution_count": 14,
   "id": "de073ef9",
   "metadata": {},
   "outputs": [
    {
     "data": {
      "text/plain": [
       "[1, 2, 3, 5, 6, 7]"
      ]
     },
     "execution_count": 14,
     "metadata": {},
     "output_type": "execute_result"
    }
   ],
   "source": [
    "#Inserting multiple values\n",
    "a=[1,2,3]\n",
    "b=[5,6,7]\n",
    "a.extend(b)\n",
    "a\n"
   ]
  },
  {
   "cell_type": "code",
   "execution_count": 15,
   "id": "a0fc993c",
   "metadata": {},
   "outputs": [
    {
     "data": {
      "text/plain": [
       "[]"
      ]
     },
     "execution_count": 15,
     "metadata": {},
     "output_type": "execute_result"
    }
   ],
   "source": [
    "#Deleting listitems using various methods\n",
    "a.pop(0)\n",
    "del a[1]\n",
    "a.clear()\n",
    "a\n"
   ]
  },
  {
   "cell_type": "code",
   "execution_count": 16,
   "id": "015eda5b",
   "metadata": {},
   "outputs": [
    {
     "name": "stdout",
     "output_type": "stream",
     "text": [
      "('Dell', 'HP', 123)\n"
     ]
    }
   ],
   "source": [
    "'''Tuple:\n",
    "        It is an ordered collection of datatypes which uses () and is immutable'''\n",
    "mytuple=('Dell','HP',123)\n",
    "print(mytuple)"
   ]
  },
  {
   "cell_type": "code",
   "execution_count": 26,
   "id": "df733126",
   "metadata": {},
   "outputs": [
    {
     "name": "stdout",
     "output_type": "stream",
     "text": [
      "3\n"
     ]
    }
   ],
   "source": [
    "print(len(mytuple))\n"
   ]
  },
  {
   "cell_type": "code",
   "execution_count": 18,
   "id": "0ce97801",
   "metadata": {},
   "outputs": [
    {
     "ename": "AttributeError",
     "evalue": "'tuple' object has no attribute 'pop'",
     "output_type": "error",
     "traceback": [
      "\u001b[1;31m---------------------------------------------------------------------------\u001b[0m",
      "\u001b[1;31mAttributeError\u001b[0m                            Traceback (most recent call last)",
      "Input \u001b[1;32mIn [18]\u001b[0m, in \u001b[0;36m<cell line: 1>\u001b[1;34m()\u001b[0m\n\u001b[1;32m----> 1\u001b[0m \u001b[43mmytuple\u001b[49m\u001b[38;5;241;43m.\u001b[39;49m\u001b[43mpop\u001b[49m(\u001b[38;5;241m0\u001b[39m)\n",
      "\u001b[1;31mAttributeError\u001b[0m: 'tuple' object has no attribute 'pop'"
     ]
    }
   ],
   "source": [
    "mytuple.pop(0)"
   ]
  },
  {
   "cell_type": "code",
   "execution_count": 27,
   "id": "001ec5e0",
   "metadata": {},
   "outputs": [
    {
     "data": {
      "text/plain": [
       "'From above,we can say that Tuple is immutable.\\nSimilarly,update,insert,append and remove functions do not work.'"
      ]
     },
     "execution_count": 27,
     "metadata": {},
     "output_type": "execute_result"
    }
   ],
   "source": [
    "'''From above,we can say that Tuple is immutable.\n",
    "Similarly,update,insert,append and remove functions do not work.'''"
   ]
  },
  {
   "cell_type": "code",
   "execution_count": 28,
   "id": "8a74fba8",
   "metadata": {},
   "outputs": [
    {
     "name": "stdout",
     "output_type": "stream",
     "text": [
      "{'Color:Black', 'Year of making:2028', 'Brand:BMW'}\n"
     ]
    }
   ],
   "source": [
    "'''Dictionary:\n",
    "             Data is stored in terms in terms of key and values,uses {} and is mutable.'''\n",
    "mydict={\"Brand:\" \"BMW\",\n",
    "        \"Color:\" \"Black\",\n",
    "        \"Year of making:\" \"2028\"}\n",
    "print(mydict)\n"
   ]
  },
  {
   "cell_type": "code",
   "execution_count": 29,
   "id": "3a7932a6",
   "metadata": {},
   "outputs": [
    {
     "data": {
      "text/plain": [
       "{'Brand:BMW', 'Color', 'Color:Black', 'Year of making:2028'}"
      ]
     },
     "execution_count": 29,
     "metadata": {},
     "output_type": "execute_result"
    }
   ],
   "source": [
    "#Update\n",
    "mydict.update({\"Color\": \"red\"})\n",
    "mydict"
   ]
  },
  {
   "cell_type": "code",
   "execution_count": 30,
   "id": "9dd26b0f",
   "metadata": {},
   "outputs": [
    {
     "name": "stdout",
     "output_type": "stream",
     "text": [
      "<class 'set'>\n"
     ]
    }
   ],
   "source": [
    "print(type(mydict))"
   ]
  },
  {
   "cell_type": "code",
   "execution_count": 31,
   "id": "8757d223",
   "metadata": {},
   "outputs": [
    {
     "data": {
      "text/plain": [
       "'Functions:\\n            A set of data which will be executed when it is invoked or called.'"
      ]
     },
     "execution_count": 31,
     "metadata": {},
     "output_type": "execute_result"
    }
   ],
   "source": [
    "'''Functions:\n",
    "            A set of data which will be executed when it is invoked or called.'''"
   ]
  },
  {
   "cell_type": "code",
   "execution_count": 32,
   "id": "020ebb93",
   "metadata": {},
   "outputs": [
    {
     "name": "stdout",
     "output_type": "stream",
     "text": [
      "The sum of the two given numbers is 5\n"
     ]
    }
   ],
   "source": [
    "def add(a,b):\n",
    "    print(\"The sum of the two given numbers is\",(a+b))\n",
    "add(2,3)"
   ]
  },
  {
   "cell_type": "code",
   "execution_count": 43,
   "id": "08885880",
   "metadata": {},
   "outputs": [
    {
     "name": "stdout",
     "output_type": "stream",
     "text": [
      "Enter a value1\n",
      "Enter b value1\n",
      "The sum is  11\n"
     ]
    }
   ],
   "source": [
    "def sum(a,b):\n",
    "    a=input(\"Enter a value\")\n",
    "    b=input(\"Enter b value\")\n",
    "    print(\"The sum is \",(a+b))\n",
    "\n",
    "sum(a,b)"
   ]
  },
  {
   "cell_type": "code",
   "execution_count": 44,
   "id": "4238057b",
   "metadata": {},
   "outputs": [
    {
     "name": "stdout",
     "output_type": "stream",
     "text": [
      "Enter a value1\n",
      "Enter b value1\n",
      "The sum is  2\n"
     ]
    }
   ],
   "source": [
    "def sum(a,b):\n",
    "    a=int(input(\"Enter a value\"))\n",
    "    b=int(input(\"Enter b value\"))\n",
    "    print(\"The sum is \",+(a+b))\n",
    "sum(a,b)"
   ]
  },
  {
   "cell_type": "code",
   "execution_count": null,
   "id": "8f9202f5",
   "metadata": {},
   "outputs": [],
   "source": []
  }
 ],
 "metadata": {
  "kernelspec": {
   "display_name": "Python 3 (ipykernel)",
   "language": "python",
   "name": "python3"
  },
  "language_info": {
   "codemirror_mode": {
    "name": "ipython",
    "version": 3
   },
   "file_extension": ".py",
   "mimetype": "text/x-python",
   "name": "python",
   "nbconvert_exporter": "python",
   "pygments_lexer": "ipython3",
   "version": "3.9.12"
  }
 },
 "nbformat": 4,
 "nbformat_minor": 5
}
